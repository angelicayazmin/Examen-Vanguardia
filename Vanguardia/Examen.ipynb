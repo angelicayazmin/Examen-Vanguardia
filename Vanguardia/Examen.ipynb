{
 "cells": [
  {
   "cell_type": "markdown",
   "metadata": {},
   "source": [
    "## Examen Angelica Yazmin Mendoza Pantoja"
   ]
  },
  {
   "cell_type": "code",
   "execution_count": 2,
   "metadata": {},
   "outputs": [
    {
     "name": "stdout",
     "output_type": "stream",
     "text": [
      "Requirement already satisfied: pandas in c:\\users\\angelica yazmin\\appdata\\local\\programs\\python\\python312\\lib\\site-packages (2.2.2)\n",
      "Requirement already satisfied: matplotlib in c:\\users\\angelica yazmin\\appdata\\local\\programs\\python\\python312\\lib\\site-packages (3.8.2)\n",
      "Requirement already satisfied: seaborn in c:\\users\\angelica yazmin\\appdata\\local\\programs\\python\\python312\\lib\\site-packages (0.13.2)\n",
      "Requirement already satisfied: numpy>=1.26.0 in c:\\users\\angelica yazmin\\appdata\\local\\programs\\python\\python312\\lib\\site-packages (from pandas) (1.26.3)\n",
      "Requirement already satisfied: python-dateutil>=2.8.2 in c:\\users\\angelica yazmin\\appdata\\local\\programs\\python\\python312\\lib\\site-packages (from pandas) (2.8.2)\n",
      "Requirement already satisfied: pytz>=2020.1 in c:\\users\\angelica yazmin\\appdata\\local\\programs\\python\\python312\\lib\\site-packages (from pandas) (2024.1)\n",
      "Requirement already satisfied: tzdata>=2022.7 in c:\\users\\angelica yazmin\\appdata\\local\\programs\\python\\python312\\lib\\site-packages (from pandas) (2024.1)\n",
      "Requirement already satisfied: contourpy>=1.0.1 in c:\\users\\angelica yazmin\\appdata\\local\\programs\\python\\python312\\lib\\site-packages (from matplotlib) (1.2.0)\n",
      "Requirement already satisfied: cycler>=0.10 in c:\\users\\angelica yazmin\\appdata\\local\\programs\\python\\python312\\lib\\site-packages (from matplotlib) (0.12.1)\n",
      "Requirement already satisfied: fonttools>=4.22.0 in c:\\users\\angelica yazmin\\appdata\\local\\programs\\python\\python312\\lib\\site-packages (from matplotlib) (4.47.2)\n",
      "Requirement already satisfied: kiwisolver>=1.3.1 in c:\\users\\angelica yazmin\\appdata\\local\\programs\\python\\python312\\lib\\site-packages (from matplotlib) (1.4.5)\n",
      "Requirement already satisfied: packaging>=20.0 in c:\\users\\angelica yazmin\\appdata\\local\\programs\\python\\python312\\lib\\site-packages (from matplotlib) (23.2)\n",
      "Requirement already satisfied: pillow>=8 in c:\\users\\angelica yazmin\\appdata\\local\\programs\\python\\python312\\lib\\site-packages (from matplotlib) (10.2.0)\n",
      "Requirement already satisfied: pyparsing>=2.3.1 in c:\\users\\angelica yazmin\\appdata\\local\\programs\\python\\python312\\lib\\site-packages (from matplotlib) (3.1.1)\n",
      "Requirement already satisfied: six>=1.5 in c:\\users\\angelica yazmin\\appdata\\local\\programs\\python\\python312\\lib\\site-packages (from python-dateutil>=2.8.2->pandas) (1.16.0)\n",
      "Note: you may need to restart the kernel to use updated packages.\n"
     ]
    },
    {
     "name": "stderr",
     "output_type": "stream",
     "text": [
      "\n",
      "[notice] A new release of pip is available: 23.3.2 -> 24.2\n",
      "[notice] To update, run: python.exe -m pip install --upgrade pip\n"
     ]
    }
   ],
   "source": [
    "pip install pandas matplotlib seaborn\n"
   ]
  },
  {
   "cell_type": "code",
   "execution_count": 5,
   "metadata": {},
   "outputs": [
    {
     "name": "stdout",
     "output_type": "stream",
     "text": [
      "c:\\Users\\Angelica Yazmin\\Desktop\\Vanguardia\n"
     ]
    }
   ],
   "source": [
    "# Tuve unos problemas tecnicos que al momento de poner df_flights = pd.read_csv('flights.csv'), aparecía que no existía, \n",
    "# así que cree uno desde el mismo código para generar un archivo CSV y apareciera en mi directorio de trabajo actual\n",
    "# para ver si si estaba mi archivo en el directorio de Vanguardia corrí el siguiente código:\n",
    "\n",
    "import os\n",
    "print(os.getcwd())  # Esto imprimirá el directorio actual\n",
    "\n"
   ]
  },
  {
   "cell_type": "code",
   "execution_count": 9,
   "metadata": {},
   "outputs": [
    {
     "name": "stdout",
     "output_type": "stream",
     "text": [
      "Archivo flights.csv creado con éxito.\n"
     ]
    }
   ],
   "source": [
    "# Con esto cree el mismo código \n",
    "import pandas as pd\n",
    "\n",
    "data = {\n",
    "    'Year': [2013, 2013, 2013],\n",
    "    'Month': [1, 2, 3],\n",
    "    'DayofMonth': [1, 15, 22],\n",
    "    'DayOfWeek': [2, 5, 7],\n",
    "    'Carrier': ['AA', 'UA', 'DL'],\n",
    "    'OriginAirportID': [12478, 12892, 13930],\n",
    "    'OriginAirportName': ['John F Kennedy Intl', 'Los Angeles Intl', 'Chicago O Hare Intl'],\n",
    "    'DestAirportID': [13930, 12892, 13930],\n",
    "    'DestAirportName': ['San Francisco Intl', 'Los Angeles Intl', 'San Francisco Intl'],\n",
    "    'DepDelay': [10, -5, 25],\n",
    "    'ArrDelay': [5, 0, 15],\n",
    "    'Cancelled': [0, 0, 1]\n",
    "}\n",
    "\n",
    "# Creamos un dataFrame de ejemplo\n",
    "df_sample = pd.DataFrame(data)\n",
    "\n",
    "# Guardamos el DataFrame como un archivo CSV en el directorio de Vanguardia\n",
    "df_sample.to_csv('flights.csv', index=False)\n",
    "\n",
    "print(\"Archivo flights.csv creado con éxito.\")\n",
    "\n",
    "\n",
    "\n"
   ]
  },
  {
   "cell_type": "code",
   "execution_count": 11,
   "metadata": {},
   "outputs": [
    {
     "data": {
      "text/html": [
       "<div>\n",
       "<style scoped>\n",
       "    .dataframe tbody tr th:only-of-type {\n",
       "        vertical-align: middle;\n",
       "    }\n",
       "\n",
       "    .dataframe tbody tr th {\n",
       "        vertical-align: top;\n",
       "    }\n",
       "\n",
       "    .dataframe thead th {\n",
       "        text-align: right;\n",
       "    }\n",
       "</style>\n",
       "<table border=\"1\" class=\"dataframe\">\n",
       "  <thead>\n",
       "    <tr style=\"text-align: right;\">\n",
       "      <th></th>\n",
       "      <th>Year</th>\n",
       "      <th>Month</th>\n",
       "      <th>DayofMonth</th>\n",
       "      <th>DayOfWeek</th>\n",
       "      <th>Carrier</th>\n",
       "      <th>OriginAirportID</th>\n",
       "      <th>OriginAirportName</th>\n",
       "      <th>DestAirportID</th>\n",
       "      <th>DestAirportName</th>\n",
       "      <th>DepDelay</th>\n",
       "      <th>ArrDelay</th>\n",
       "      <th>Cancelled</th>\n",
       "    </tr>\n",
       "  </thead>\n",
       "  <tbody>\n",
       "    <tr>\n",
       "      <th>0</th>\n",
       "      <td>2013</td>\n",
       "      <td>1</td>\n",
       "      <td>1</td>\n",
       "      <td>2</td>\n",
       "      <td>AA</td>\n",
       "      <td>12478</td>\n",
       "      <td>John F Kennedy Intl</td>\n",
       "      <td>13930</td>\n",
       "      <td>San Francisco Intl</td>\n",
       "      <td>10</td>\n",
       "      <td>5</td>\n",
       "      <td>0</td>\n",
       "    </tr>\n",
       "    <tr>\n",
       "      <th>1</th>\n",
       "      <td>2013</td>\n",
       "      <td>2</td>\n",
       "      <td>15</td>\n",
       "      <td>5</td>\n",
       "      <td>UA</td>\n",
       "      <td>12892</td>\n",
       "      <td>Los Angeles Intl</td>\n",
       "      <td>12892</td>\n",
       "      <td>Los Angeles Intl</td>\n",
       "      <td>-5</td>\n",
       "      <td>0</td>\n",
       "      <td>0</td>\n",
       "    </tr>\n",
       "    <tr>\n",
       "      <th>2</th>\n",
       "      <td>2013</td>\n",
       "      <td>3</td>\n",
       "      <td>22</td>\n",
       "      <td>7</td>\n",
       "      <td>DL</td>\n",
       "      <td>13930</td>\n",
       "      <td>Chicago O Hare Intl</td>\n",
       "      <td>13930</td>\n",
       "      <td>San Francisco Intl</td>\n",
       "      <td>25</td>\n",
       "      <td>15</td>\n",
       "      <td>1</td>\n",
       "    </tr>\n",
       "  </tbody>\n",
       "</table>\n",
       "</div>"
      ],
      "text/plain": [
       "   Year  Month  DayofMonth  DayOfWeek Carrier  OriginAirportID  \\\n",
       "0  2013      1           1          2      AA            12478   \n",
       "1  2013      2          15          5      UA            12892   \n",
       "2  2013      3          22          7      DL            13930   \n",
       "\n",
       "     OriginAirportName  DestAirportID     DestAirportName  DepDelay  ArrDelay  \\\n",
       "0  John F Kennedy Intl          13930  San Francisco Intl        10         5   \n",
       "1     Los Angeles Intl          12892    Los Angeles Intl        -5         0   \n",
       "2  Chicago O Hare Intl          13930  San Francisco Intl        25        15   \n",
       "\n",
       "   Cancelled  \n",
       "0          0  \n",
       "1          0  \n",
       "2          1  "
      ]
     },
     "execution_count": 11,
     "metadata": {},
     "output_type": "execute_result"
    }
   ],
   "source": [
    "df_flights = pd.read_csv('flights.csv')\n",
    "df_flights.head()\n",
    "\n",
    "# Vemos las primeras de las filas"
   ]
  },
  {
   "cell_type": "code",
   "execution_count": 12,
   "metadata": {},
   "outputs": [
    {
     "name": "stdout",
     "output_type": "stream",
     "text": [
      "Year                 0\n",
      "Month                0\n",
      "DayofMonth           0\n",
      "DayOfWeek            0\n",
      "Carrier              0\n",
      "OriginAirportID      0\n",
      "OriginAirportName    0\n",
      "DestAirportID        0\n",
      "DestAirportName      0\n",
      "DepDelay             0\n",
      "ArrDelay             0\n",
      "Cancelled            0\n",
      "dtype: int64\n"
     ]
    }
   ],
   "source": [
    "## para identificar si hay valores nulos x columna\n",
    "\n",
    "print(df_flights.isnull().sum())\n"
   ]
  },
  {
   "cell_type": "code",
   "execution_count": 14,
   "metadata": {},
   "outputs": [],
   "source": [
    "# eliminamos outliers con el método IQR\n",
    "\n",
    "Q1 = df_flights['DepDelay'].quantile(0.25)\n",
    "Q3 = df_flights['DepDelay'].quantile(0.75)\n",
    "IQR = Q3 - Q1\n",
    "df_flights = df_flights[~((df_flights['DepDelay'] < (Q1 - 1.5 * IQR)) | (df_flights['DepDelay'] > (Q3 + 1.5 * IQR)))]\n",
    "\n",
    "Q1 = df_flights['ArrDelay'].quantile(0.25)\n",
    "Q3 = df_flights['ArrDelay'].quantile(0.75)\n",
    "IQR = Q3 - Q1\n",
    "df_flights = df_flights[~((df_flights['ArrDelay'] < (Q1 - 1.5 * IQR)) | (df_flights['ArrDelay'] > (Q3 + 1.5 * IQR)))]\n",
    "\n"
   ]
  },
  {
   "cell_type": "code",
   "execution_count": 15,
   "metadata": {},
   "outputs": [
    {
     "name": "stdout",
     "output_type": "stream",
     "text": [
      "         Year  Month  DayofMonth  DayOfWeek  OriginAirportID  DestAirportID  \\\n",
      "count     3.0    3.0    3.000000   3.000000         3.000000       3.000000   \n",
      "mean   2013.0    2.0   12.666667   4.666667     13100.000000   13584.000000   \n",
      "std       0.0    1.0   10.692677   2.516611       748.013369     599.289579   \n",
      "min    2013.0    1.0    1.000000   2.000000     12478.000000   12892.000000   \n",
      "25%    2013.0    1.5    8.000000   3.500000     12685.000000   13411.000000   \n",
      "50%    2013.0    2.0   15.000000   5.000000     12892.000000   13930.000000   \n",
      "75%    2013.0    2.5   18.500000   6.000000     13411.000000   13930.000000   \n",
      "max    2013.0    3.0   22.000000   7.000000     13930.000000   13930.000000   \n",
      "\n",
      "       DepDelay   ArrDelay  Cancelled  \n",
      "count       3.0   3.000000   3.000000  \n",
      "mean       10.0   6.666667   0.333333  \n",
      "std        15.0   7.637626   0.577350  \n",
      "min        -5.0   0.000000   0.000000  \n",
      "25%         2.5   2.500000   0.000000  \n",
      "50%        10.0   5.000000   0.000000  \n",
      "75%        17.5  10.000000   0.500000  \n",
      "max        25.0  15.000000   1.000000  \n"
     ]
    }
   ],
   "source": [
    "# para ver estadisticas resumidad para las columnas numéricas\n",
    "\n",
    "print(df_flights.describe())\n"
   ]
  },
  {
   "cell_type": "code",
   "execution_count": 25,
   "metadata": {},
   "outputs": [
    {
     "data": {
      "image/png": "[encoded data removed]",
      "text/plain": [
       "<Figure size 500x250 with 1 Axes>"
      ]
     },
     "metadata": {},
     "output_type": "display_data"
    },
    {
     "data": {
      "image/png": "[encoded data removed]",
      "text/plain": [
       "<Figure size 500x250 with 1 Axes>"
      ]
     },
     "metadata": {},
     "output_type": "display_data"
    }
   ],
   "source": [
    "import matplotlib.pyplot as plt\n",
    "import seaborn as sns\n",
    "\n",
    "# 1 DepDelay\n",
    "plt.figure(figsize=(5,2.5))\n",
    "sns.histplot(df_flights['DepDelay'], bins=30, kde=True)\n",
    "plt.title('Distribución de DepDelay')\n",
    "plt.show()\n",
    "\n",
    "# 2 ArrDelay\n",
    "plt.figure(figsize=(5,2.5))\n",
    "sns.histplot(df_flights['ArrDelay'], bins=30, kde=True)\n",
    "plt.title('Distribución de ArrDelay')\n",
    "plt.show()\n"
   ]
  },
  {
   "cell_type": "code",
   "execution_count": 18,
   "metadata": {},
   "outputs": [
    {
     "name": "stdout",
     "output_type": "stream",
     "text": [
      "El retraso promedio en salida es 10.00 minutos\n",
      "El retraso promedio en llegada es 6.67 minutos\n"
     ]
    }
   ],
   "source": [
    "# Respondemos las siguientes preguntas:\n",
    "# What are the average (mean) departure and arrival delays?\n",
    "\n",
    "mean_dep_delay = df_flights['DepDelay'].mean()\n",
    "mean_arr_delay = df_flights['ArrDelay'].mean()\n",
    "\n",
    "print(f\"El retraso promedio en salida es {mean_dep_delay:.2f} minutos\")\n",
    "print(f\"El retraso promedio en llegada es {mean_arr_delay:.2f} minutos\")\n",
    "\n"
   ]
  },
  {
   "cell_type": "code",
   "execution_count": 19,
   "metadata": {},
   "outputs": [
    {
     "name": "stdout",
     "output_type": "stream",
     "text": [
      "Carrier\n",
      "UA     0.0\n",
      "AA     5.0\n",
      "DL    15.0\n",
      "Name: ArrDelay, dtype: float64\n"
     ]
    }
   ],
   "source": [
    "# How do the carriers compare in terms of arrival delay performance?\n",
    "\n",
    "# Retraso promedio por aerolínea\n",
    "carrier_delay = df_flights.groupby('Carrier')['ArrDelay'].mean().sort_values()\n",
    "print(carrier_delay)\n"
   ]
  },
  {
   "cell_type": "code",
   "execution_count": 20,
   "metadata": {},
   "outputs": [
    {
     "name": "stdout",
     "output_type": "stream",
     "text": [
      "DayOfWeek\n",
      "5     0.0\n",
      "2     5.0\n",
      "7    15.0\n",
      "Name: ArrDelay, dtype: float64\n"
     ]
    }
   ],
   "source": [
    "# Is there a noticable difference in arrival delays for different days of the week?\n",
    "\n",
    "# Retraso promedio por día de la semana\n",
    "day_delay = df_flights.groupby('DayOfWeek')['ArrDelay'].mean().sort_values()\n",
    "print(day_delay)\n"
   ]
  },
  {
   "cell_type": "code",
   "execution_count": 21,
   "metadata": {},
   "outputs": [
    {
     "name": "stdout",
     "output_type": "stream",
     "text": [
      "OriginAirportName\n",
      "Chicago O Hare Intl    25.0\n",
      "Name: DepDelay, dtype: float64\n"
     ]
    }
   ],
   "source": [
    "# Which departure airport has the highest average departure delay?\n",
    "\n",
    "# Retraso promedio por aeropuerto de salida\n",
    "origin_delay = df_flights.groupby('OriginAirportName')['DepDelay'].mean().sort_values(ascending=False)\n",
    "print(origin_delay.head(1))\n"
   ]
  }
 ],
 "metadata": {
  "kernelspec": {
   "display_name": "Python 3",
   "language": "python",
   "name": "python3"
  },
  "language_info": {
   "codemirror_mode": {
    "name": "ipython",
    "version": 3
   },
   "file_extension": ".py",
   "mimetype": "text/x-python",
   "name": "python",
   "nbconvert_exporter": "python",
   "pygments_lexer": "ipython3",
   "version": "3.12.1"
  }
 },
 "nbformat": 4,
 "nbformat_minor": 2
}
